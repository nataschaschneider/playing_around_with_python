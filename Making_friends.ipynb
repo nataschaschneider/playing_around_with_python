{
    "cells": [
        {
            "metadata": {
                "collapsed": true
            },
            "cell_type": "code",
            "source": "friends = input(\"\"\"Hello! Do you want to be friends? Y/N:\n>\"\"\")\nif str.lower(friends) == \"y\":\n    print(\"What is your name?\")\n    name=input(\"\"\"Please enter your name:\n    >\"\"\")\n    name=str.capitalize(name)\n    print(f\"\"\"Hello, {name}! It's a pleasure to meet you!\"\"\")\n    if str.lower(name) == \"stefan\":\n        for i in range (1,10):\n            print(\"Hallo!\")\n    print(\"You're my best friend in the world!\")\nelse:\n    print(\"That's okay. I've got enough friends already.\")",
            "execution_count": null,
            "outputs": []
        }
    ],
    "metadata": {
        "kernelspec": {
            "name": "python3",
            "display_name": "Python 3.6",
            "language": "python"
        },
        "language_info": {
            "name": "python",
            "version": "3.6.9",
            "mimetype": "text/x-python",
            "codemirror_mode": {
                "name": "ipython",
                "version": 3
            },
            "pygments_lexer": "ipython3",
            "nbconvert_exporter": "python",
            "file_extension": ".py"
        }
    },
    "nbformat": 4,
    "nbformat_minor": 1
}